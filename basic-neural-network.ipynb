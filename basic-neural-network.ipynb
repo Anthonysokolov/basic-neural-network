{
 "cells": [
  {
   "cell_type": "markdown",
   "metadata": {},
   "source": [
    "# Basic Neural Network Built With Numpy"
   ]
  },
  {
   "cell_type": "code",
   "execution_count": 25,
   "metadata": {},
   "outputs": [],
   "source": [
    "import numpy as np"
   ]
  },
  {
   "cell_type": "code",
   "execution_count": 26,
   "metadata": {},
   "outputs": [],
   "source": [
    "# Create and format inputs and outputs\n",
    "# The output is equal to the first value in each input array\n",
    "\n",
    "inputs = [[[0],[0],[1]],\n",
    "          [[1],[1],[1]],\n",
    "          [[1],[0],[1]],\n",
    "          [[0],[1],[1]],\n",
    "          [[0],[1],[0]],\n",
    "          [[1],[1],[0]]]\n",
    "         \n",
    "outs = [[[0]],\n",
    "        [[1]],\n",
    "        [[1]],\n",
    "        [[0]],\n",
    "        [[0]],\n",
    "        [[1]]]\n",
    "\n",
    "train = []\n",
    "for i,o in zip(inputs,outs):\n",
    "    train.append((np.asarray(i),np.asarray(o)))"
   ]
  },
  {
   "cell_type": "code",
   "execution_count": 27,
   "metadata": {},
   "outputs": [],
   "source": [
    "class Net(object):\n",
    "    def __init__(self,sizes):\n",
    "        # Intitialize random weights\n",
    "        self.weights = [np.random.randn(r,c) for r,c in zip(sizes[1:],sizes[:-1])]\n",
    "    \n",
    "    def sigmoid(self,x):\n",
    "        # Nonlinear function\n",
    "        return 1/(1+np.exp(-x))\n",
    "    \n",
    "    def sigmoid_deriv(self,x):\n",
    "        # Derivative of nonlinear function\n",
    "        return self.sigmoid(x) * (1-self.sigmoid(x))\n",
    "    \n",
    "    def forward(self,a):\n",
    "        # Feed forward through the network\n",
    "        for w in self.weights:\n",
    "            a = self.sigmoid(np.dot(w,a))\n",
    "        return a\n",
    "    \n",
    "    def train(self,data,epochs,alpha):\n",
    "        # Train the network\n",
    "        for e in range(epochs):\n",
    "            for x,y in data:\n",
    "                a = x\n",
    "                zs = []\n",
    "                activations = [a]\n",
    "                \n",
    "                # Feedforward\n",
    "                for w in self.weights:\n",
    "                    # Store z vector\n",
    "                    z = np.dot(w,a)\n",
    "                    zs.append(z)\n",
    "                    \n",
    "                    # Store activation vector\n",
    "                    a = self.sigmoid(z)\n",
    "                    activations.append(a)\n",
    "                \n",
    "                # Calculate current loss\n",
    "                ypred = a\n",
    "                loss = ypred - y\n",
    "                \n",
    "                # Find the gradient of the last set of weights\n",
    "                nabla_constant = (loss*2)*self.sigmoid_deriv(zs[-1])\n",
    "                nabla_w = np.dot(nabla_constant,activations[-2].T)\n",
    "                self.weights[-1] -= alpha*nabla_w\n",
    "                \n",
    "                # Work backwards through the network, finding the gradient\n",
    "                # of the weights at each layer\n",
    "                for i in range(2,len(w)+1):\n",
    "                    nabla_constant = np.dot(self.sigmoid_deriv(zs[-i]),nabla_constant)\n",
    "                    nabla_w = np.dot(nabla_constant,activations[-i-1].T)\n",
    "                    self.weights[-2]-= alpha*nabla_w\n",
    "                    \n",
    "    def cost(self,data):\n",
    "        # Calculate the current cost of the network\n",
    "        cost = np.zeros(data[0][1].shape)\n",
    "        for x,y in data:\n",
    "            ypred = self.forward(x)\n",
    "            cost += (ypred-y)**2\n",
    "        return cost"
   ]
  },
  {
   "cell_type": "code",
   "execution_count": 28,
   "metadata": {},
   "outputs": [],
   "source": [
    "# Initialize a three layer network\n",
    "n = Net([3,10,1])"
   ]
  },
  {
   "cell_type": "code",
   "execution_count": 29,
   "metadata": {},
   "outputs": [
    {
     "data": {
      "text/plain": [
       "array([[ 1.90945771]])"
      ]
     },
     "execution_count": 29,
     "metadata": {},
     "output_type": "execute_result"
    }
   ],
   "source": [
    "# Find the initial cost of the network\n",
    "n.cost(train)"
   ]
  },
  {
   "cell_type": "code",
   "execution_count": 30,
   "metadata": {},
   "outputs": [],
   "source": [
    "# Train the network for 10000 epochs\n",
    "n.train(train,10000,0.1)"
   ]
  },
  {
   "cell_type": "code",
   "execution_count": 31,
   "metadata": {},
   "outputs": [
    {
     "data": {
      "text/plain": [
       "array([[ 0.00463853]])"
      ]
     },
     "execution_count": 31,
     "metadata": {},
     "output_type": "execute_result"
    }
   ],
   "source": [
    "# Find the cost of the network after training\n",
    "n.cost(train)"
   ]
  },
  {
   "cell_type": "code",
   "execution_count": 32,
   "metadata": {},
   "outputs": [],
   "source": [
    "# Create test inputs to see how the network performs on unseen data\n",
    "t0 = np.asarray([[0],[0],[0]])\n",
    "t1 = np.asarray([[1],[0],[0]])"
   ]
  },
  {
   "cell_type": "code",
   "execution_count": 33,
   "metadata": {},
   "outputs": [
    {
     "data": {
      "text/plain": [
       "array([[ 0.05306956]])"
      ]
     },
     "execution_count": 33,
     "metadata": {},
     "output_type": "execute_result"
    }
   ],
   "source": [
    "n.forward(t0)"
   ]
  },
  {
   "cell_type": "code",
   "execution_count": 34,
   "metadata": {},
   "outputs": [
    {
     "data": {
      "text/plain": [
       "array([[ 0.9939769]])"
      ]
     },
     "execution_count": 34,
     "metadata": {},
     "output_type": "execute_result"
    }
   ],
   "source": [
    "n.forward(t1)"
   ]
  },
  {
   "cell_type": "code",
   "execution_count": null,
   "metadata": {},
   "outputs": [],
   "source": []
  }
 ],
 "metadata": {
  "kernelspec": {
   "display_name": "Python 3",
   "language": "python",
   "name": "python3"
  },
  "language_info": {
   "codemirror_mode": {
    "name": "ipython",
    "version": 3
   },
   "file_extension": ".py",
   "mimetype": "text/x-python",
   "name": "python",
   "nbconvert_exporter": "python",
   "pygments_lexer": "ipython3",
   "version": "3.6.5"
  }
 },
 "nbformat": 4,
 "nbformat_minor": 2
}
